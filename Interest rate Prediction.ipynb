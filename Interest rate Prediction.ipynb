{
 "cells": [
  {
   "cell_type": "code",
   "execution_count": 2,
   "metadata": {},
   "outputs": [],
   "source": [
    "import numpy as np\n",
    "import pandas as pd"
   ]
  },
  {
   "cell_type": "code",
   "execution_count": 3,
   "metadata": {},
   "outputs": [],
   "source": [
    "ld=pd.read_csv(\"loans data.csv\")"
   ]
  },
  {
   "cell_type": "code",
   "execution_count": 4,
   "metadata": {
    "scrolled": true
   },
   "outputs": [
    {
     "data": {
      "text/html": [
       "<div>\n",
       "<style scoped>\n",
       "    .dataframe tbody tr th:only-of-type {\n",
       "        vertical-align: middle;\n",
       "    }\n",
       "\n",
       "    .dataframe tbody tr th {\n",
       "        vertical-align: top;\n",
       "    }\n",
       "\n",
       "    .dataframe thead th {\n",
       "        text-align: right;\n",
       "    }\n",
       "</style>\n",
       "<table border=\"1\" class=\"dataframe\">\n",
       "  <thead>\n",
       "    <tr style=\"text-align: right;\">\n",
       "      <th></th>\n",
       "      <th>ID</th>\n",
       "      <th>Amount.Requested</th>\n",
       "      <th>Amount.Funded.By.Investors</th>\n",
       "      <th>Interest.Rate</th>\n",
       "      <th>Loan.Length</th>\n",
       "      <th>Loan.Purpose</th>\n",
       "      <th>Debt.To.Income.Ratio</th>\n",
       "      <th>State</th>\n",
       "      <th>Home.Ownership</th>\n",
       "      <th>Monthly.Income</th>\n",
       "      <th>FICO.Range</th>\n",
       "      <th>Open.CREDIT.Lines</th>\n",
       "      <th>Revolving.CREDIT.Balance</th>\n",
       "      <th>Inquiries.in.the.Last.6.Months</th>\n",
       "      <th>Employment.Length</th>\n",
       "    </tr>\n",
       "  </thead>\n",
       "  <tbody>\n",
       "    <tr>\n",
       "      <th>0</th>\n",
       "      <td>81174.0</td>\n",
       "      <td>20000</td>\n",
       "      <td>20000</td>\n",
       "      <td>8.90%</td>\n",
       "      <td>36 months</td>\n",
       "      <td>debt_consolidation</td>\n",
       "      <td>14.90%</td>\n",
       "      <td>SC</td>\n",
       "      <td>MORTGAGE</td>\n",
       "      <td>6541.67</td>\n",
       "      <td>735-739</td>\n",
       "      <td>14</td>\n",
       "      <td>14272</td>\n",
       "      <td>2.0</td>\n",
       "      <td>&lt; 1 year</td>\n",
       "    </tr>\n",
       "    <tr>\n",
       "      <th>1</th>\n",
       "      <td>99592.0</td>\n",
       "      <td>19200</td>\n",
       "      <td>19200</td>\n",
       "      <td>12.12%</td>\n",
       "      <td>36 months</td>\n",
       "      <td>debt_consolidation</td>\n",
       "      <td>28.36%</td>\n",
       "      <td>TX</td>\n",
       "      <td>MORTGAGE</td>\n",
       "      <td>4583.33</td>\n",
       "      <td>715-719</td>\n",
       "      <td>12</td>\n",
       "      <td>11140</td>\n",
       "      <td>1.0</td>\n",
       "      <td>2 years</td>\n",
       "    </tr>\n",
       "    <tr>\n",
       "      <th>2</th>\n",
       "      <td>80059.0</td>\n",
       "      <td>35000</td>\n",
       "      <td>35000</td>\n",
       "      <td>21.98%</td>\n",
       "      <td>60 months</td>\n",
       "      <td>debt_consolidation</td>\n",
       "      <td>23.81%</td>\n",
       "      <td>CA</td>\n",
       "      <td>MORTGAGE</td>\n",
       "      <td>11500.00</td>\n",
       "      <td>690-694</td>\n",
       "      <td>14</td>\n",
       "      <td>21977</td>\n",
       "      <td>1.0</td>\n",
       "      <td>2 years</td>\n",
       "    </tr>\n",
       "    <tr>\n",
       "      <th>3</th>\n",
       "      <td>15825.0</td>\n",
       "      <td>10000</td>\n",
       "      <td>9975</td>\n",
       "      <td>9.99%</td>\n",
       "      <td>36 months</td>\n",
       "      <td>debt_consolidation</td>\n",
       "      <td>14.30%</td>\n",
       "      <td>KS</td>\n",
       "      <td>MORTGAGE</td>\n",
       "      <td>3833.33</td>\n",
       "      <td>695-699</td>\n",
       "      <td>10</td>\n",
       "      <td>9346</td>\n",
       "      <td>0.0</td>\n",
       "      <td>5 years</td>\n",
       "    </tr>\n",
       "    <tr>\n",
       "      <th>4</th>\n",
       "      <td>33182.0</td>\n",
       "      <td>12000</td>\n",
       "      <td>12000</td>\n",
       "      <td>11.71%</td>\n",
       "      <td>36 months</td>\n",
       "      <td>credit_card</td>\n",
       "      <td>18.78%</td>\n",
       "      <td>NJ</td>\n",
       "      <td>RENT</td>\n",
       "      <td>3195.00</td>\n",
       "      <td>695-699</td>\n",
       "      <td>11</td>\n",
       "      <td>14469</td>\n",
       "      <td>0.0</td>\n",
       "      <td>9 years</td>\n",
       "    </tr>\n",
       "  </tbody>\n",
       "</table>\n",
       "</div>"
      ],
      "text/plain": [
       "        ID Amount.Requested Amount.Funded.By.Investors Interest.Rate  \\\n",
       "0  81174.0            20000                      20000         8.90%   \n",
       "1  99592.0            19200                      19200        12.12%   \n",
       "2  80059.0            35000                      35000        21.98%   \n",
       "3  15825.0            10000                       9975         9.99%   \n",
       "4  33182.0            12000                      12000        11.71%   \n",
       "\n",
       "  Loan.Length        Loan.Purpose Debt.To.Income.Ratio State Home.Ownership  \\\n",
       "0   36 months  debt_consolidation               14.90%    SC       MORTGAGE   \n",
       "1   36 months  debt_consolidation               28.36%    TX       MORTGAGE   \n",
       "2   60 months  debt_consolidation               23.81%    CA       MORTGAGE   \n",
       "3   36 months  debt_consolidation               14.30%    KS       MORTGAGE   \n",
       "4   36 months         credit_card               18.78%    NJ           RENT   \n",
       "\n",
       "   Monthly.Income FICO.Range Open.CREDIT.Lines Revolving.CREDIT.Balance  \\\n",
       "0         6541.67    735-739                14                    14272   \n",
       "1         4583.33    715-719                12                    11140   \n",
       "2        11500.00    690-694                14                    21977   \n",
       "3         3833.33    695-699                10                     9346   \n",
       "4         3195.00    695-699                11                    14469   \n",
       "\n",
       "   Inquiries.in.the.Last.6.Months Employment.Length  \n",
       "0                             2.0          < 1 year  \n",
       "1                             1.0           2 years  \n",
       "2                             1.0           2 years  \n",
       "3                             0.0           5 years  \n",
       "4                             0.0           9 years  "
      ]
     },
     "execution_count": 4,
     "metadata": {},
     "output_type": "execute_result"
    }
   ],
   "source": [
    "ld.head()"
   ]
  },
  {
   "cell_type": "code",
   "execution_count": 5,
   "metadata": {},
   "outputs": [
    {
     "data": {
      "text/plain": [
       "ID                                float64\n",
       "Amount.Requested                   object\n",
       "Amount.Funded.By.Investors         object\n",
       "Interest.Rate                      object\n",
       "Loan.Length                        object\n",
       "Loan.Purpose                       object\n",
       "Debt.To.Income.Ratio               object\n",
       "State                              object\n",
       "Home.Ownership                     object\n",
       "Monthly.Income                    float64\n",
       "FICO.Range                         object\n",
       "Open.CREDIT.Lines                  object\n",
       "Revolving.CREDIT.Balance           object\n",
       "Inquiries.in.the.Last.6.Months    float64\n",
       "Employment.Length                  object\n",
       "dtype: object"
      ]
     },
     "execution_count": 5,
     "metadata": {},
     "output_type": "execute_result"
    }
   ],
   "source": [
    "ld.dtypes"
   ]
  },
  {
   "cell_type": "code",
   "execution_count": null,
   "metadata": {},
   "outputs": [],
   "source": [
    "## Data prep:\n",
    "# ID,Amount.Funded.By.Investors: Drop\n",
    "#Interest.Rate,Debt.To.Income.Ratio: remove % sign and convert to numeric\n",
    "#Amount.Requested,Open.CREDIT.Lines,Revolving.CREDIT.Balance: convert it to numeric\n",
    "# FICO.Range:  replace it by numeric column which is average of range\n",
    "# Employment.Length: convert to number\n",
    "# Loan.Length,Loan.Purpose,State,Home.Ownership: dummies"
   ]
  },
  {
   "cell_type": "code",
   "execution_count": 6,
   "metadata": {},
   "outputs": [],
   "source": [
    "ld.drop(['ID','Amount.Funded.By.Investors'],axis=1,inplace=True)"
   ]
  },
  {
   "cell_type": "code",
   "execution_count": 7,
   "metadata": {},
   "outputs": [],
   "source": [
    "for col in ['Interest.Rate','Debt.To.Income.Ratio']:\n",
    "    ld[col]=ld[col].str.replace(\"%\",\"\")"
   ]
  },
  {
   "cell_type": "code",
   "execution_count": 8,
   "metadata": {},
   "outputs": [
    {
     "data": {
      "text/plain": [
       "Index(['Amount.Requested', 'Interest.Rate', 'Loan.Length', 'Loan.Purpose',\n",
       "       'Debt.To.Income.Ratio', 'State', 'Home.Ownership', 'FICO.Range',\n",
       "       'Open.CREDIT.Lines', 'Revolving.CREDIT.Balance', 'Employment.Length'],\n",
       "      dtype='object')"
      ]
     },
     "execution_count": 8,
     "metadata": {},
     "output_type": "execute_result"
    }
   ],
   "source": [
    "ld.select_dtypes(['object']).columns"
   ]
  },
  {
   "cell_type": "code",
   "execution_count": 9,
   "metadata": {},
   "outputs": [],
   "source": [
    "for col in ['Amount.Requested','Interest.Rate','Debt.To.Income.Ratio',\n",
    "            'Open.CREDIT.Lines','Revolving.CREDIT.Balance']:\n",
    "    ld[col]=pd.to_numeric(ld[col],errors='coerce')"
   ]
  },
  {
   "cell_type": "code",
   "execution_count": 10,
   "metadata": {},
   "outputs": [
    {
     "data": {
      "text/plain": [
       "Amount.Requested                  float64\n",
       "Interest.Rate                     float64\n",
       "Loan.Length                        object\n",
       "Loan.Purpose                       object\n",
       "Debt.To.Income.Ratio              float64\n",
       "State                              object\n",
       "Home.Ownership                     object\n",
       "Monthly.Income                    float64\n",
       "FICO.Range                         object\n",
       "Open.CREDIT.Lines                 float64\n",
       "Revolving.CREDIT.Balance          float64\n",
       "Inquiries.in.the.Last.6.Months    float64\n",
       "Employment.Length                  object\n",
       "dtype: object"
      ]
     },
     "execution_count": 10,
     "metadata": {},
     "output_type": "execute_result"
    }
   ],
   "source": [
    "ld.dtypes"
   ]
  },
  {
   "cell_type": "code",
   "execution_count": 11,
   "metadata": {},
   "outputs": [
    {
     "data": {
      "text/plain": [
       "Amount.Requested                  float64\n",
       "Interest.Rate                     float64\n",
       "Loan.Length                        object\n",
       "Loan.Purpose                       object\n",
       "Debt.To.Income.Ratio              float64\n",
       "State                              object\n",
       "Home.Ownership                     object\n",
       "Monthly.Income                    float64\n",
       "Open.CREDIT.Lines                 float64\n",
       "Revolving.CREDIT.Balance          float64\n",
       "Inquiries.in.the.Last.6.Months    float64\n",
       "Employment.Length                  object\n",
       "fico                              float64\n",
       "dtype: object"
      ]
     },
     "execution_count": 11,
     "metadata": {},
     "output_type": "execute_result"
    }
   ],
   "source": [
    "k=ld['FICO.Range'].str.split(\"-\",expand=True).astype(float)\n",
    "ld['fico']=0.5*(k[0]+k[1])\n",
    "del ld['FICO.Range']\n",
    "ld.dtypes"
   ]
  },
  {
   "cell_type": "code",
   "execution_count": 13,
   "metadata": {},
   "outputs": [
    {
     "data": {
      "text/plain": [
       "0       737.0\n",
       "1       717.0\n",
       "2       692.0\n",
       "3       697.0\n",
       "4       697.0\n",
       "        ...  \n",
       "2495    707.0\n",
       "2496    742.0\n",
       "2497    682.0\n",
       "2498    677.0\n",
       "2499    672.0\n",
       "Name: fico, Length: 2500, dtype: float64"
      ]
     },
     "execution_count": 13,
     "metadata": {},
     "output_type": "execute_result"
    }
   ],
   "source": [
    "ld['fico']"
   ]
  },
  {
   "cell_type": "code",
   "execution_count": 12,
   "metadata": {},
   "outputs": [
    {
     "data": {
      "text/plain": [
       "10+ years    653\n",
       "< 1 year     249\n",
       "2 years      243\n",
       "3 years      235\n",
       "5 years      202\n",
       "4 years      191\n",
       "1 year       177\n",
       "6 years      163\n",
       "7 years      127\n",
       "8 years      108\n",
       "9 years       72\n",
       ".              2\n",
       "Name: Employment.Length, dtype: int64"
      ]
     },
     "execution_count": 12,
     "metadata": {},
     "output_type": "execute_result"
    }
   ],
   "source": [
    "ld['Employment.Length'].value_counts()"
   ]
  },
  {
   "cell_type": "code",
   "execution_count": null,
   "metadata": {},
   "outputs": [],
   "source": [
    "#errors=corece : it replace any missing value with NAN or which value is is not possible to convert for them it coerce that values"
   ]
  },
  {
   "cell_type": "code",
   "execution_count": 14,
   "metadata": {},
   "outputs": [],
   "source": [
    "ld['Employment.Length']=ld['Employment.Length'].str.replace('years',\"\")\n",
    "ld['Employment.Length']=ld['Employment.Length'].str.replace('year',\"\")\n",
    "ld['Employment.Length']=np.where(ld['Employment.Length'].str[:2]==\"10\",10,ld['Employment.Length'])\n",
    "ld['Employment.Length']=np.where(ld['Employment.Length'].str[0]==\"<\",0,ld['Employment.Length'])\n",
    "ld['Employment.Length']=pd.to_numeric(ld['Employment.Length'],errors='coerce')"
   ]
  },
  {
   "cell_type": "code",
   "execution_count": 15,
   "metadata": {},
   "outputs": [
    {
     "data": {
      "text/plain": [
       "0        0.0\n",
       "1        2.0\n",
       "2        2.0\n",
       "3        5.0\n",
       "4        9.0\n",
       "        ... \n",
       "2495     8.0\n",
       "2496    10.0\n",
       "2497    10.0\n",
       "2498     5.0\n",
       "2499    10.0\n",
       "Name: Employment.Length, Length: 2500, dtype: float64"
      ]
     },
     "execution_count": 15,
     "metadata": {},
     "output_type": "execute_result"
    }
   ],
   "source": [
    "ld['Employment.Length']"
   ]
  },
  {
   "cell_type": "code",
   "execution_count": 16,
   "metadata": {},
   "outputs": [],
   "source": [
    "cat_cols=ld.select_dtypes(['object']).columns"
   ]
  },
  {
   "cell_type": "code",
   "execution_count": 17,
   "metadata": {},
   "outputs": [
    {
     "data": {
      "text/plain": [
       "Index(['Loan.Length', 'Loan.Purpose', 'State', 'Home.Ownership'], dtype='object')"
      ]
     },
     "execution_count": 17,
     "metadata": {},
     "output_type": "execute_result"
    }
   ],
   "source": [
    "cat_cols"
   ]
  },
  {
   "cell_type": "code",
   "execution_count": 18,
   "metadata": {},
   "outputs": [
    {
     "name": "stdout",
     "output_type": "stream",
     "text": [
      "Loan.Length\n",
      "Loan.Purpose\n",
      "State\n",
      "Home.Ownership\n"
     ]
    }
   ],
   "source": [
    "## we can use pandas getdummies function and manual method to create dummies\n",
    "# but in this case we are using manual method to ignore lower frequencies variable\n",
    "for col in cat_cols:\n",
    "    freqs=ld[col].value_counts()\n",
    "    k=freqs.index[freqs>20][:-1]\n",
    "    for cat in k:\n",
    "        name=col+'_'+cat\n",
    "        ld[name]=(ld[col]==cat).astype(int)\n",
    "    del ld[col]\n",
    "    print(col)\n"
   ]
  },
  {
   "cell_type": "code",
   "execution_count": 19,
   "metadata": {},
   "outputs": [
    {
     "data": {
      "text/plain": [
       "Amount.Requested                   float64\n",
       "Interest.Rate                      float64\n",
       "Debt.To.Income.Ratio               float64\n",
       "Monthly.Income                     float64\n",
       "Open.CREDIT.Lines                  float64\n",
       "Revolving.CREDIT.Balance           float64\n",
       "Inquiries.in.the.Last.6.Months     float64\n",
       "Employment.Length                  float64\n",
       "fico                               float64\n",
       "Loan.Length_36 months                int32\n",
       "Loan.Purpose_debt_consolidation      int32\n",
       "Loan.Purpose_credit_card             int32\n",
       "Loan.Purpose_other                   int32\n",
       "Loan.Purpose_home_improvement        int32\n",
       "Loan.Purpose_major_purchase          int32\n",
       "Loan.Purpose_small_business          int32\n",
       "Loan.Purpose_car                     int32\n",
       "Loan.Purpose_wedding                 int32\n",
       "Loan.Purpose_medical                 int32\n",
       "Loan.Purpose_moving                  int32\n",
       "State_CA                             int32\n",
       "State_NY                             int32\n",
       "State_TX                             int32\n",
       "State_FL                             int32\n",
       "State_IL                             int32\n",
       "State_GA                             int32\n",
       "State_PA                             int32\n",
       "State_NJ                             int32\n",
       "State_VA                             int32\n",
       "State_MA                             int32\n",
       "State_OH                             int32\n",
       "State_MD                             int32\n",
       "State_NC                             int32\n",
       "State_CO                             int32\n",
       "State_WA                             int32\n",
       "State_CT                             int32\n",
       "State_AZ                             int32\n",
       "State_MI                             int32\n",
       "State_MN                             int32\n",
       "State_AL                             int32\n",
       "State_MO                             int32\n",
       "State_NV                             int32\n",
       "State_OR                             int32\n",
       "State_SC                             int32\n",
       "State_WI                             int32\n",
       "State_KY                             int32\n",
       "State_LA                             int32\n",
       "State_OK                             int32\n",
       "Home.Ownership_MORTGAGE              int32\n",
       "Home.Ownership_RENT                  int32\n",
       "dtype: object"
      ]
     },
     "execution_count": 19,
     "metadata": {},
     "output_type": "execute_result"
    }
   ],
   "source": [
    "ld.dtypes"
   ]
  },
  {
   "cell_type": "code",
   "execution_count": 20,
   "metadata": {},
   "outputs": [],
   "source": [
    "from sklearn.model_selection import train_test_split"
   ]
  },
  {
   "cell_type": "code",
   "execution_count": 21,
   "metadata": {},
   "outputs": [],
   "source": [
    "ld_train,ld_test=train_test_split(ld,test_size=0.2,random_state=2)"
   ]
  },
  {
   "cell_type": "code",
   "execution_count": 22,
   "metadata": {},
   "outputs": [
    {
     "data": {
      "text/plain": [
       "Amount.Requested                    5\n",
       "Interest.Rate                       0\n",
       "Debt.To.Income.Ratio                1\n",
       "Monthly.Income                      3\n",
       "Open.CREDIT.Lines                   7\n",
       "Revolving.CREDIT.Balance            4\n",
       "Inquiries.in.the.Last.6.Months      3\n",
       "Employment.Length                  68\n",
       "fico                                0\n",
       "Loan.Length_36 months               0\n",
       "Loan.Purpose_debt_consolidation     0\n",
       "Loan.Purpose_credit_card            0\n",
       "Loan.Purpose_other                  0\n",
       "Loan.Purpose_home_improvement       0\n",
       "Loan.Purpose_major_purchase         0\n",
       "Loan.Purpose_small_business         0\n",
       "Loan.Purpose_car                    0\n",
       "Loan.Purpose_wedding                0\n",
       "Loan.Purpose_medical                0\n",
       "Loan.Purpose_moving                 0\n",
       "State_CA                            0\n",
       "State_NY                            0\n",
       "State_TX                            0\n",
       "State_FL                            0\n",
       "State_IL                            0\n",
       "State_GA                            0\n",
       "State_PA                            0\n",
       "State_NJ                            0\n",
       "State_VA                            0\n",
       "State_MA                            0\n",
       "State_OH                            0\n",
       "State_MD                            0\n",
       "State_NC                            0\n",
       "State_CO                            0\n",
       "State_WA                            0\n",
       "State_CT                            0\n",
       "State_AZ                            0\n",
       "State_MI                            0\n",
       "State_MN                            0\n",
       "State_AL                            0\n",
       "State_MO                            0\n",
       "State_NV                            0\n",
       "State_OR                            0\n",
       "State_SC                            0\n",
       "State_WI                            0\n",
       "State_KY                            0\n",
       "State_LA                            0\n",
       "State_OK                            0\n",
       "Home.Ownership_MORTGAGE             0\n",
       "Home.Ownership_RENT                 0\n",
       "dtype: int64"
      ]
     },
     "execution_count": 22,
     "metadata": {},
     "output_type": "execute_result"
    }
   ],
   "source": [
    "ld_train.isnull().sum()"
   ]
  },
  {
   "cell_type": "code",
   "execution_count": 23,
   "metadata": {},
   "outputs": [
    {
     "name": "stderr",
     "output_type": "stream",
     "text": [
      "C:\\Users\\Ashwini\\anaconda3\\lib\\site-packages\\pandas\\core\\indexing.py:1720: SettingWithCopyWarning: \n",
      "A value is trying to be set on a copy of a slice from a DataFrame.\n",
      "Try using .loc[row_indexer,col_indexer] = value instead\n",
      "\n",
      "See the caveats in the documentation: https://pandas.pydata.org/pandas-docs/stable/user_guide/indexing.html#returning-a-view-versus-a-copy\n",
      "  self._setitem_single_column(loc, value, pi)\n"
     ]
    }
   ],
   "source": [
    "## replace na values by mean\n",
    "for col in ld_train.columns:\n",
    "    if ld_train[col].isnull().sum()>0:\n",
    "        ld_train.loc[ld_train[col].isnull(),col]=ld_train[col].mean()\n",
    "\n",
    "for col in ld_test.columns:\n",
    "    if ld_test[col].isnull().sum()>0:\n",
    "        ld_test.loc[ld_test[col].isnull(),col]=ld_train[col].mean()"
   ]
  },
  {
   "cell_type": "code",
   "execution_count": 24,
   "metadata": {},
   "outputs": [],
   "source": [
    "# seperate the predictor and response. y-train-->response, x_train=predictor\n",
    "x_train=ld_train.drop('Interest.Rate',axis=1)\n",
    "y_train=ld_train['Interest.Rate']"
   ]
  },
  {
   "cell_type": "code",
   "execution_count": 25,
   "metadata": {},
   "outputs": [],
   "source": [
    "from sklearn.linear_model import LinearRegression"
   ]
  },
  {
   "cell_type": "code",
   "execution_count": 26,
   "metadata": {},
   "outputs": [],
   "source": [
    "lm=LinearRegression()"
   ]
  },
  {
   "cell_type": "code",
   "execution_count": 27,
   "metadata": {},
   "outputs": [
    {
     "data": {
      "text/plain": [
       "LinearRegression()"
      ]
     },
     "execution_count": 27,
     "metadata": {},
     "output_type": "execute_result"
    }
   ],
   "source": [
    "lm.fit(x_train,y_train)"
   ]
  },
  {
   "cell_type": "code",
   "execution_count": 29,
   "metadata": {},
   "outputs": [
    {
     "data": {
      "text/plain": [
       "array([ 1.59059286e-04, -1.07930820e-03, -1.69117262e-05, -2.82757819e-02,\n",
       "       -5.76482784e-06,  3.12674913e-01,  1.63365845e-02, -8.77620360e-02,\n",
       "       -3.18831460e+00, -7.22469773e-01, -8.23643158e-01, -2.04778652e-02,\n",
       "       -8.80070638e-01, -4.68619194e-01, -8.25934775e-02, -5.39514017e-01,\n",
       "       -9.90991495e-01, -6.02580092e-01,  8.39558555e-01, -4.70816058e-01,\n",
       "       -4.13716336e-01,  2.17299255e-01, -3.66654406e-01, -8.18678712e-01,\n",
       "       -2.02295370e-01, -5.96572942e-01, -5.92819403e-01, -2.23066635e-01,\n",
       "       -3.78898570e-01, -8.38219355e-02, -5.32476912e-02, -3.86482396e-01,\n",
       "       -5.59831742e-01, -3.03593431e-01,  5.81282728e-02,  6.54090424e-02,\n",
       "       -2.60693164e-01,  2.09119339e-02, -1.48945197e-01, -4.78060090e-01,\n",
       "       -4.23477762e-01,  1.99575471e-01, -2.43834338e-01, -2.61042630e-02,\n",
       "       -1.04608993e-01, -8.55763668e-03, -8.90429283e-01, -3.88422632e-01,\n",
       "       -2.32968218e-01])"
      ]
     },
     "execution_count": 29,
     "metadata": {},
     "output_type": "execute_result"
    }
   ],
   "source": [
    "lm.coef_"
   ]
  },
  {
   "cell_type": "code",
   "execution_count": 30,
   "metadata": {},
   "outputs": [
    {
     "data": {
      "text/plain": [
       "77.07213296580457"
      ]
     },
     "execution_count": 30,
     "metadata": {},
     "output_type": "execute_result"
    }
   ],
   "source": [
    "lm.intercept_\n",
    "# beta zero is intercept"
   ]
  },
  {
   "cell_type": "code",
   "execution_count": 31,
   "metadata": {},
   "outputs": [
    {
     "data": {
      "text/plain": [
       "[('Amount.Requested', 0.00015905928579314354),\n",
       " ('Debt.To.Income.Ratio', -0.0010793082005023213),\n",
       " ('Monthly.Income', -1.6911726214773715e-05),\n",
       " ('Open.CREDIT.Lines', -0.028275781850735107),\n",
       " ('Revolving.CREDIT.Balance', -5.7648278431465805e-06),\n",
       " ('Inquiries.in.the.Last.6.Months', 0.3126749130602594),\n",
       " ('Employment.Length', 0.01633658450806541),\n",
       " ('fico', -0.08776203604546573),\n",
       " ('Loan.Length_36 months', -3.1883146036023713),\n",
       " ('Loan.Purpose_debt_consolidation', -0.7224697730607057),\n",
       " ('Loan.Purpose_credit_card', -0.8236431581879268),\n",
       " ('Loan.Purpose_other', -0.020477865204266532),\n",
       " ('Loan.Purpose_home_improvement', -0.8800706376573194),\n",
       " ('Loan.Purpose_major_purchase', -0.4686191937334272),\n",
       " ('Loan.Purpose_small_business', -0.0825934774582125),\n",
       " ('Loan.Purpose_car', -0.5395140165856502),\n",
       " ('Loan.Purpose_wedding', -0.9909914948711225),\n",
       " ('Loan.Purpose_medical', -0.6025800916376355),\n",
       " ('Loan.Purpose_moving', 0.8395585554658108),\n",
       " ('State_CA', -0.47081605787532094),\n",
       " ('State_NY', -0.4137163355074169),\n",
       " ('State_TX', 0.21729925470779415),\n",
       " ('State_FL', -0.3666544055481376),\n",
       " ('State_IL', -0.8186787119632527),\n",
       " ('State_GA', -0.20229537000168207),\n",
       " ('State_PA', -0.5965729418582328),\n",
       " ('State_NJ', -0.5928194027740429),\n",
       " ('State_VA', -0.22306663469110805),\n",
       " ('State_MA', -0.37889856990817133),\n",
       " ('State_OH', -0.08382193550073155),\n",
       " ('State_MD', -0.05324769120670016),\n",
       " ('State_NC', -0.3864823964176475),\n",
       " ('State_CO', -0.5598317424377197),\n",
       " ('State_WA', -0.3035934309165548),\n",
       " ('State_CT', 0.05812827279126444),\n",
       " ('State_AZ', 0.06540904239651121),\n",
       " ('State_MI', -0.26069316358378175),\n",
       " ('State_MN', 0.020911933892077197),\n",
       " ('State_AL', -0.1489451968772159),\n",
       " ('State_MO', -0.47806008979689274),\n",
       " ('State_NV', -0.423477762291205),\n",
       " ('State_OR', 0.1995754709088241),\n",
       " ('State_SC', -0.24383433759949869),\n",
       " ('State_WI', -0.026104262969745384),\n",
       " ('State_KY', -0.10460899326392015),\n",
       " ('State_LA', -0.008557636679658337),\n",
       " ('State_OK', -0.8904292826513324),\n",
       " ('Home.Ownership_MORTGAGE', -0.3884226322591205),\n",
       " ('Home.Ownership_RENT', -0.2329682177797764)]"
      ]
     },
     "execution_count": 31,
     "metadata": {},
     "output_type": "execute_result"
    }
   ],
   "source": [
    "list(zip(x_train.columns,lm.coef_))"
   ]
  },
  {
   "cell_type": "code",
   "execution_count": 32,
   "metadata": {},
   "outputs": [],
   "source": [
    "## Performance on test\n",
    "x_test=ld_test.drop('Interest.Rate',axis=1)"
   ]
  },
  {
   "cell_type": "code",
   "execution_count": 33,
   "metadata": {},
   "outputs": [],
   "source": [
    "predicted_ir=lm.predict(x_test)"
   ]
  },
  {
   "cell_type": "code",
   "execution_count": 34,
   "metadata": {},
   "outputs": [
    {
     "data": {
      "text/plain": [
       "array([13.54161591,  9.08585546, 14.27481912, 13.84101559,  7.05132327,\n",
       "       19.65215563, 13.35168699, 16.14292115, 11.58633624,  7.28721433,\n",
       "       13.07191708, 21.45154056, 15.24655957, 16.53099029, 18.37585535,\n",
       "       15.29486625, 13.51287106, 15.85097164, 13.97718879, 14.4747684 ,\n",
       "       14.44590658, 14.02142775, 14.47910987, 13.22387302,  9.58805934,\n",
       "        6.76409074, 19.01604862, 10.01746242,  9.85921855, 16.3330338 ,\n",
       "       16.09424183, 15.34691013, 12.51688001, 15.80770005, 14.98804752,\n",
       "       17.83123193,  6.77862414,  7.48424136, 15.67748383, 11.13120689,\n",
       "       15.00156029, 14.7188922 , 10.38141212, 13.2199913 , 15.54957095,\n",
       "       18.50671927, 13.1732654 , 19.68116888, 10.63320172, 15.2118001 ,\n",
       "       15.23683658, 10.19660874, 12.00616426, 19.07206059, 16.85599657,\n",
       "        5.11473269, 18.33913281,  8.01969534, 11.21352647,  8.84255518,\n",
       "        8.48098371,  9.96270159,  3.53199925, 12.30254252,  9.97044881,\n",
       "        6.1621252 ,  7.08565801, 17.45505222, 17.76810379, 14.80618306,\n",
       "       13.48351958,  2.23785448, 14.89094346,  5.23762603,  7.93521476,\n",
       "       12.81393757, 14.509621  , 11.54661405, 11.19904927, 15.08090203,\n",
       "       12.32117623, 12.89711373, 10.45999132,  9.86113631,  8.54690943,\n",
       "       17.18832252, 14.54468746,  9.94292384, 20.0502515 , 13.29510065,\n",
       "       10.06423082, 14.76054612,  8.9017865 ,  9.16227424, 15.12640055,\n",
       "       15.93500964,  1.70466003, 14.34813178, 14.11031469,  2.93154744,\n",
       "        8.6058554 , 14.61051327, 15.09947124, 13.29798848, 17.98117379,\n",
       "       15.94052703, 11.66457425, 13.11410482, 12.17514826, 20.39503035,\n",
       "       13.45172775, 14.55935708, 11.48710417, 11.92740796, 11.20808321,\n",
       "       12.96139117,  6.43100041, 14.81708104, 17.42135971, 19.24435822,\n",
       "       11.11631437,  7.94038276, 12.04943213, 12.77966678, 13.14061389,\n",
       "       17.21744818,  7.72646196, 16.47257362, 12.65124188,  9.93996425,\n",
       "       10.33693933, 14.09889684, 12.97515102, 13.49634565,  1.72969426,\n",
       "       11.58782693, 17.65347921, 19.38141467, 14.35349739,  9.62180319,\n",
       "        8.89008437, 13.76519327, 15.26573829, 13.669439  , 13.10844404,\n",
       "        7.47076192,  5.04390333, 13.68186034, 18.35147482, 14.50159415,\n",
       "       15.03697258, 15.47292294, 14.50800617,  9.56123657,  9.74712451,\n",
       "        5.08047369, 15.42580926, 13.75267172, 15.80566257, 13.68460223,\n",
       "       14.94204952, 12.20506925,  9.75329895, 14.89355138,  5.63938681,\n",
       "        6.9623017 , 15.24184519, 11.40615512, 13.78948241, 13.03847853,\n",
       "       11.24304464, 11.19772335, 13.13712094, 10.81783369, 15.42132879,\n",
       "       11.44935522, 15.14448194,  8.42955256, 14.69092779,  8.08259271,\n",
       "        6.76158983, 14.31022681, 13.26245875, 14.46096512, 14.94337578,\n",
       "       17.35194677, 11.19947675, 10.19682907, 13.43307312, 16.23498943,\n",
       "       11.54614205, 13.3798363 , 15.03399176, 14.09235712, 15.29274871,\n",
       "       13.72540047, 17.00749022, 15.73313802, 10.34505728, 12.08998662,\n",
       "       15.23142115, 13.21114613,  4.17750803, 17.57448979, 15.89735616,\n",
       "       20.1684757 ,  2.70610943, 14.84932686, 16.1484264 , 11.60102086,\n",
       "       15.51457112, 12.28849886, 14.00182787, 13.78051794, 14.35616427,\n",
       "       14.03154042, 14.66766837, 20.40980653, 16.12820288, 12.26642841,\n",
       "       13.72385474, 13.26558953, 11.94395052,  9.6190747 , 11.06997846,\n",
       "        7.81988541, 14.77901311, 15.72417549, 12.65595543, 13.62953081,\n",
       "       13.35758978,  3.82098496, 16.82879882, 21.18434434, 15.54153014,\n",
       "       13.89538468, 15.54449466, 14.49462316, 13.80578758, 13.58956532,\n",
       "       13.82952677, 13.03867034, 12.8151029 ,  8.54119376, 19.00885255,\n",
       "       13.30957583, 16.07771913, 12.72180048, 15.97980966, 15.77703185,\n",
       "       14.36494427, 11.37726154, 12.22458011, 16.23055216, 15.06128401,\n",
       "       14.00815717, 17.66246591, 15.12704702,  9.94245894, 12.13061739,\n",
       "        9.53588182, 10.71908668, 11.13541415, 15.14186827,  7.70086151,\n",
       "       15.93717961,  6.78917853, 17.59717719,  9.34239575, 11.99354926,\n",
       "       15.20347346, 15.50600975, 15.67829905, 13.68283484, 13.87906659,\n",
       "       14.2059264 , 15.0506178 , 15.97717301, 15.28450748, 10.34008934,\n",
       "       12.69331969, 13.12110214,  5.58381739, 12.40997352, 15.18503533,\n",
       "       17.00835143, 12.42892568, 14.0366253 ,  9.52411767, 14.15469969,\n",
       "       12.32485026, 11.33179852, 21.16840412, 16.72382733, 10.43559429,\n",
       "       18.56593693, 17.47994148, 18.920828  , 10.65794551, 14.96888411,\n",
       "       14.47894913,  6.47033741, 16.85757052, 11.01862433, 14.57892276,\n",
       "       14.46223206, 15.64169905, 13.29357723, 17.49562351, 13.07776501,\n",
       "       12.70695516,  6.05022057,  4.41786431, 12.18688965, 10.04150702,\n",
       "       17.0078168 , 16.6137367 , 14.5053734 , 13.05663579,  8.65987821,\n",
       "       15.76705059, 18.80931025, 16.32139458, 10.19140106,  9.37629538,\n",
       "       14.40406281,  9.31450132, 13.88286046, 13.82679956, 15.47941777,\n",
       "       10.68439512,  9.32503793, 18.96465977, 15.31140973, 12.09756129,\n",
       "        7.40036047, 15.09897919,  8.02580139, 17.11569059, 13.62836026,\n",
       "       18.94111489, 17.23540207, 12.81389468, 14.43593795, 14.61211851,\n",
       "       15.84820599, 17.17900184, 11.87990591, 13.96033789, 16.73511779,\n",
       "       19.46212509, 10.48931843, 11.5371864 , 13.08662316, 13.8099323 ,\n",
       "       10.26279973, 15.40555237, 15.49875347, 14.19723037, 12.62750673,\n",
       "       11.19366491, 15.61970306,  9.92391581,  7.46051421, 12.56861549,\n",
       "       11.24063308, 14.44517982, 10.80918223, 14.33657489, 15.4912555 ,\n",
       "       17.23436458, 17.32820198, 20.83190871, 15.58075387, 13.46384312,\n",
       "       14.63329719,  9.73655323,  5.62721167, 12.6305716 , 15.7187268 ,\n",
       "       14.15081688,  8.45657234, 11.29485513, 15.02823825, 15.93150613,\n",
       "       16.11778069, 13.13439544, 13.57547646, 11.62343141, 11.86364569,\n",
       "       13.19056621, 12.45506246, 13.48562135, 11.19046443,  8.46924758,\n",
       "       13.34053484,  8.67650374, 13.05653092, 15.26079711,  9.70522911,\n",
       "       18.80484301, 12.71893306,  8.75091297, 14.76722003, 11.82544041,\n",
       "       10.92192166, 12.84550216, 14.89221312, 19.20606057, 17.77251225,\n",
       "       14.27451601, 12.12863367, 13.44189801, 13.43729785, 15.87099097,\n",
       "       13.65226573, 15.83937916,  9.17293377, 10.12731394, 18.56155256,\n",
       "       13.5045626 , 15.06211103, 16.84907693, 18.88641678, 14.34249442,\n",
       "       15.91601677,  6.88826315,  7.31403774, 20.53232948,  7.3782345 ,\n",
       "       14.59808341, 12.34066372, 14.11583217, 18.49575289, 21.01689459,\n",
       "       12.70903402,  7.163146  , 12.1007501 , 18.3745788 , 12.25793813,\n",
       "       10.25967414,  9.75112026,  9.69144503, 14.19099014, 14.93524703,\n",
       "       13.7101815 , 19.45298327, 12.16570644,  8.68782701, 14.89113759,\n",
       "        4.46565374, 10.80196595, 13.8829148 , 16.45556969, 15.58890912,\n",
       "       12.61111425,  5.61052208, 13.35860149, 13.97844782, 12.04600138,\n",
       "       11.21357092, 14.79481629, 17.19133441, 12.98608187, 13.56391074,\n",
       "       14.98596188, 19.03255936, 11.92608596, 18.33051544, 14.81955547,\n",
       "       18.97707037, 11.22920011, 12.740251  ,  8.51303562, 11.50016653,\n",
       "       14.45296681, 10.49018567, 14.66232292,  7.63400073, 10.14643884,\n",
       "        7.00483697,  5.56451213, 18.84800205, 14.44325719, 15.341786  ,\n",
       "       15.20918393, 13.41954356, 12.26263009, 12.22111639,  6.82588643,\n",
       "       16.30141732, 20.90182451, 11.33012527, 10.4273193 , 10.91667763,\n",
       "       16.79192547, 19.64496553, 14.81008303, 10.46434444,  9.97215143])"
      ]
     },
     "execution_count": 34,
     "metadata": {},
     "output_type": "execute_result"
    }
   ],
   "source": [
    "predicted_ir"
   ]
  },
  {
   "cell_type": "code",
   "execution_count": 35,
   "metadata": {},
   "outputs": [],
   "source": [
    "from sklearn.metrics import mean_absolute_error"
   ]
  },
  {
   "cell_type": "code",
   "execution_count": 36,
   "metadata": {},
   "outputs": [
    {
     "data": {
      "text/plain": [
       "1.5472250646584094"
      ]
     },
     "execution_count": 36,
     "metadata": {},
     "output_type": "execute_result"
    }
   ],
   "source": [
    "mean_absolute_error(ld_test['Interest.Rate'],predicted_ir)"
   ]
  },
  {
   "cell_type": "code",
   "execution_count": 37,
   "metadata": {},
   "outputs": [],
   "source": [
    "## Regularization methods:\n",
    "##L2 penalty- Ridge, L1 penalty- lasso\n",
    "from sklearn.linear_model import Ridge,Lasso"
   ]
  },
  {
   "cell_type": "code",
   "execution_count": 38,
   "metadata": {},
   "outputs": [],
   "source": [
    "## best value of lambda using kfold\n",
    "from sklearn.model_selection import KFold"
   ]
  },
  {
   "cell_type": "code",
   "execution_count": 39,
   "metadata": {},
   "outputs": [],
   "source": [
    "lambdas=np.linspace(1,100,100)"
   ]
  },
  {
   "cell_type": "code",
   "execution_count": 40,
   "metadata": {},
   "outputs": [
    {
     "data": {
      "text/plain": [
       "array([  1.,   2.,   3.,   4.,   5.,   6.,   7.,   8.,   9.,  10.,  11.,\n",
       "        12.,  13.,  14.,  15.,  16.,  17.,  18.,  19.,  20.,  21.,  22.,\n",
       "        23.,  24.,  25.,  26.,  27.,  28.,  29.,  30.,  31.,  32.,  33.,\n",
       "        34.,  35.,  36.,  37.,  38.,  39.,  40.,  41.,  42.,  43.,  44.,\n",
       "        45.,  46.,  47.,  48.,  49.,  50.,  51.,  52.,  53.,  54.,  55.,\n",
       "        56.,  57.,  58.,  59.,  60.,  61.,  62.,  63.,  64.,  65.,  66.,\n",
       "        67.,  68.,  69.,  70.,  71.,  72.,  73.,  74.,  75.,  76.,  77.,\n",
       "        78.,  79.,  80.,  81.,  82.,  83.,  84.,  85.,  86.,  87.,  88.,\n",
       "        89.,  90.,  91.,  92.,  93.,  94.,  95.,  96.,  97.,  98.,  99.,\n",
       "       100.])"
      ]
     },
     "execution_count": 40,
     "metadata": {},
     "output_type": "execute_result"
    }
   ],
   "source": [
    "lambdas"
   ]
  },
  {
   "cell_type": "code",
   "execution_count": 41,
   "metadata": {},
   "outputs": [
    {
     "data": {
      "text/html": [
       "<div>\n",
       "<style scoped>\n",
       "    .dataframe tbody tr th:only-of-type {\n",
       "        vertical-align: middle;\n",
       "    }\n",
       "\n",
       "    .dataframe tbody tr th {\n",
       "        vertical-align: top;\n",
       "    }\n",
       "\n",
       "    .dataframe thead th {\n",
       "        text-align: right;\n",
       "    }\n",
       "</style>\n",
       "<table border=\"1\" class=\"dataframe\">\n",
       "  <thead>\n",
       "    <tr style=\"text-align: right;\">\n",
       "      <th></th>\n",
       "      <th>Amount.Requested</th>\n",
       "      <th>Interest.Rate</th>\n",
       "      <th>Debt.To.Income.Ratio</th>\n",
       "      <th>Monthly.Income</th>\n",
       "      <th>Open.CREDIT.Lines</th>\n",
       "      <th>Revolving.CREDIT.Balance</th>\n",
       "      <th>Inquiries.in.the.Last.6.Months</th>\n",
       "      <th>Employment.Length</th>\n",
       "      <th>fico</th>\n",
       "      <th>Loan.Length_36 months</th>\n",
       "      <th>...</th>\n",
       "      <th>State_MO</th>\n",
       "      <th>State_NV</th>\n",
       "      <th>State_OR</th>\n",
       "      <th>State_SC</th>\n",
       "      <th>State_WI</th>\n",
       "      <th>State_KY</th>\n",
       "      <th>State_LA</th>\n",
       "      <th>State_OK</th>\n",
       "      <th>Home.Ownership_MORTGAGE</th>\n",
       "      <th>Home.Ownership_RENT</th>\n",
       "    </tr>\n",
       "  </thead>\n",
       "  <tbody>\n",
       "    <tr>\n",
       "      <th>914</th>\n",
       "      <td>3250.0</td>\n",
       "      <td>12.73</td>\n",
       "      <td>21.44</td>\n",
       "      <td>5000.00</td>\n",
       "      <td>12.0</td>\n",
       "      <td>20564.0</td>\n",
       "      <td>0.0</td>\n",
       "      <td>3.0</td>\n",
       "      <td>677.0</td>\n",
       "      <td>1</td>\n",
       "      <td>...</td>\n",
       "      <td>0</td>\n",
       "      <td>0</td>\n",
       "      <td>0</td>\n",
       "      <td>0</td>\n",
       "      <td>0</td>\n",
       "      <td>0</td>\n",
       "      <td>0</td>\n",
       "      <td>0</td>\n",
       "      <td>1</td>\n",
       "      <td>0</td>\n",
       "    </tr>\n",
       "    <tr>\n",
       "      <th>510</th>\n",
       "      <td>16000.0</td>\n",
       "      <td>14.09</td>\n",
       "      <td>7.78</td>\n",
       "      <td>4166.67</td>\n",
       "      <td>6.0</td>\n",
       "      <td>4240.0</td>\n",
       "      <td>3.0</td>\n",
       "      <td>2.0</td>\n",
       "      <td>737.0</td>\n",
       "      <td>0</td>\n",
       "      <td>...</td>\n",
       "      <td>0</td>\n",
       "      <td>0</td>\n",
       "      <td>0</td>\n",
       "      <td>0</td>\n",
       "      <td>0</td>\n",
       "      <td>0</td>\n",
       "      <td>0</td>\n",
       "      <td>0</td>\n",
       "      <td>0</td>\n",
       "      <td>1</td>\n",
       "    </tr>\n",
       "    <tr>\n",
       "      <th>2073</th>\n",
       "      <td>10000.0</td>\n",
       "      <td>5.42</td>\n",
       "      <td>1.69</td>\n",
       "      <td>8000.00</td>\n",
       "      <td>6.0</td>\n",
       "      <td>8974.0</td>\n",
       "      <td>0.0</td>\n",
       "      <td>3.0</td>\n",
       "      <td>797.0</td>\n",
       "      <td>1</td>\n",
       "      <td>...</td>\n",
       "      <td>0</td>\n",
       "      <td>0</td>\n",
       "      <td>0</td>\n",
       "      <td>0</td>\n",
       "      <td>0</td>\n",
       "      <td>0</td>\n",
       "      <td>0</td>\n",
       "      <td>0</td>\n",
       "      <td>1</td>\n",
       "      <td>0</td>\n",
       "    </tr>\n",
       "    <tr>\n",
       "      <th>1494</th>\n",
       "      <td>3600.0</td>\n",
       "      <td>13.99</td>\n",
       "      <td>10.00</td>\n",
       "      <td>5750.00</td>\n",
       "      <td>8.0</td>\n",
       "      <td>10766.0</td>\n",
       "      <td>2.0</td>\n",
       "      <td>4.0</td>\n",
       "      <td>672.0</td>\n",
       "      <td>1</td>\n",
       "      <td>...</td>\n",
       "      <td>0</td>\n",
       "      <td>0</td>\n",
       "      <td>0</td>\n",
       "      <td>0</td>\n",
       "      <td>0</td>\n",
       "      <td>0</td>\n",
       "      <td>0</td>\n",
       "      <td>0</td>\n",
       "      <td>0</td>\n",
       "      <td>1</td>\n",
       "    </tr>\n",
       "    <tr>\n",
       "      <th>765</th>\n",
       "      <td>14000.0</td>\n",
       "      <td>14.65</td>\n",
       "      <td>3.47</td>\n",
       "      <td>8750.00</td>\n",
       "      <td>6.0</td>\n",
       "      <td>9035.0</td>\n",
       "      <td>1.0</td>\n",
       "      <td>10.0</td>\n",
       "      <td>682.0</td>\n",
       "      <td>1</td>\n",
       "      <td>...</td>\n",
       "      <td>0</td>\n",
       "      <td>0</td>\n",
       "      <td>0</td>\n",
       "      <td>0</td>\n",
       "      <td>0</td>\n",
       "      <td>0</td>\n",
       "      <td>0</td>\n",
       "      <td>0</td>\n",
       "      <td>1</td>\n",
       "      <td>0</td>\n",
       "    </tr>\n",
       "    <tr>\n",
       "      <th>...</th>\n",
       "      <td>...</td>\n",
       "      <td>...</td>\n",
       "      <td>...</td>\n",
       "      <td>...</td>\n",
       "      <td>...</td>\n",
       "      <td>...</td>\n",
       "      <td>...</td>\n",
       "      <td>...</td>\n",
       "      <td>...</td>\n",
       "      <td>...</td>\n",
       "      <td>...</td>\n",
       "      <td>...</td>\n",
       "      <td>...</td>\n",
       "      <td>...</td>\n",
       "      <td>...</td>\n",
       "      <td>...</td>\n",
       "      <td>...</td>\n",
       "      <td>...</td>\n",
       "      <td>...</td>\n",
       "      <td>...</td>\n",
       "      <td>...</td>\n",
       "    </tr>\n",
       "    <tr>\n",
       "      <th>674</th>\n",
       "      <td>2500.0</td>\n",
       "      <td>15.95</td>\n",
       "      <td>24.07</td>\n",
       "      <td>1500.00</td>\n",
       "      <td>10.0</td>\n",
       "      <td>2684.0</td>\n",
       "      <td>3.0</td>\n",
       "      <td>1.0</td>\n",
       "      <td>667.0</td>\n",
       "      <td>1</td>\n",
       "      <td>...</td>\n",
       "      <td>0</td>\n",
       "      <td>0</td>\n",
       "      <td>0</td>\n",
       "      <td>0</td>\n",
       "      <td>0</td>\n",
       "      <td>0</td>\n",
       "      <td>0</td>\n",
       "      <td>0</td>\n",
       "      <td>1</td>\n",
       "      <td>0</td>\n",
       "    </tr>\n",
       "    <tr>\n",
       "      <th>2408</th>\n",
       "      <td>10000.0</td>\n",
       "      <td>22.47</td>\n",
       "      <td>34.26</td>\n",
       "      <td>6200.00</td>\n",
       "      <td>36.0</td>\n",
       "      <td>28850.0</td>\n",
       "      <td>1.0</td>\n",
       "      <td>3.0</td>\n",
       "      <td>677.0</td>\n",
       "      <td>1</td>\n",
       "      <td>...</td>\n",
       "      <td>0</td>\n",
       "      <td>0</td>\n",
       "      <td>0</td>\n",
       "      <td>0</td>\n",
       "      <td>0</td>\n",
       "      <td>0</td>\n",
       "      <td>0</td>\n",
       "      <td>0</td>\n",
       "      <td>1</td>\n",
       "      <td>0</td>\n",
       "    </tr>\n",
       "    <tr>\n",
       "      <th>1099</th>\n",
       "      <td>30000.0</td>\n",
       "      <td>12.12</td>\n",
       "      <td>10.97</td>\n",
       "      <td>5833.33</td>\n",
       "      <td>8.0</td>\n",
       "      <td>10787.0</td>\n",
       "      <td>0.0</td>\n",
       "      <td>10.0</td>\n",
       "      <td>752.0</td>\n",
       "      <td>0</td>\n",
       "      <td>...</td>\n",
       "      <td>0</td>\n",
       "      <td>0</td>\n",
       "      <td>0</td>\n",
       "      <td>0</td>\n",
       "      <td>0</td>\n",
       "      <td>0</td>\n",
       "      <td>0</td>\n",
       "      <td>0</td>\n",
       "      <td>1</td>\n",
       "      <td>0</td>\n",
       "    </tr>\n",
       "    <tr>\n",
       "      <th>2347</th>\n",
       "      <td>12000.0</td>\n",
       "      <td>6.62</td>\n",
       "      <td>1.43</td>\n",
       "      <td>9666.67</td>\n",
       "      <td>5.0</td>\n",
       "      <td>4693.0</td>\n",
       "      <td>0.0</td>\n",
       "      <td>1.0</td>\n",
       "      <td>752.0</td>\n",
       "      <td>1</td>\n",
       "      <td>...</td>\n",
       "      <td>0</td>\n",
       "      <td>0</td>\n",
       "      <td>0</td>\n",
       "      <td>0</td>\n",
       "      <td>0</td>\n",
       "      <td>0</td>\n",
       "      <td>0</td>\n",
       "      <td>0</td>\n",
       "      <td>0</td>\n",
       "      <td>1</td>\n",
       "    </tr>\n",
       "    <tr>\n",
       "      <th>1608</th>\n",
       "      <td>2000.0</td>\n",
       "      <td>14.65</td>\n",
       "      <td>16.66</td>\n",
       "      <td>2083.33</td>\n",
       "      <td>5.0</td>\n",
       "      <td>2566.0</td>\n",
       "      <td>1.0</td>\n",
       "      <td>5.0</td>\n",
       "      <td>687.0</td>\n",
       "      <td>1</td>\n",
       "      <td>...</td>\n",
       "      <td>0</td>\n",
       "      <td>0</td>\n",
       "      <td>0</td>\n",
       "      <td>0</td>\n",
       "      <td>0</td>\n",
       "      <td>0</td>\n",
       "      <td>0</td>\n",
       "      <td>0</td>\n",
       "      <td>0</td>\n",
       "      <td>0</td>\n",
       "    </tr>\n",
       "  </tbody>\n",
       "</table>\n",
       "<p>2000 rows × 50 columns</p>\n",
       "</div>"
      ],
      "text/plain": [
       "      Amount.Requested  Interest.Rate  Debt.To.Income.Ratio  Monthly.Income  \\\n",
       "914             3250.0          12.73                 21.44         5000.00   \n",
       "510            16000.0          14.09                  7.78         4166.67   \n",
       "2073           10000.0           5.42                  1.69         8000.00   \n",
       "1494            3600.0          13.99                 10.00         5750.00   \n",
       "765            14000.0          14.65                  3.47         8750.00   \n",
       "...                ...            ...                   ...             ...   \n",
       "674             2500.0          15.95                 24.07         1500.00   \n",
       "2408           10000.0          22.47                 34.26         6200.00   \n",
       "1099           30000.0          12.12                 10.97         5833.33   \n",
       "2347           12000.0           6.62                  1.43         9666.67   \n",
       "1608            2000.0          14.65                 16.66         2083.33   \n",
       "\n",
       "      Open.CREDIT.Lines  Revolving.CREDIT.Balance  \\\n",
       "914                12.0                   20564.0   \n",
       "510                 6.0                    4240.0   \n",
       "2073                6.0                    8974.0   \n",
       "1494                8.0                   10766.0   \n",
       "765                 6.0                    9035.0   \n",
       "...                 ...                       ...   \n",
       "674                10.0                    2684.0   \n",
       "2408               36.0                   28850.0   \n",
       "1099                8.0                   10787.0   \n",
       "2347                5.0                    4693.0   \n",
       "1608                5.0                    2566.0   \n",
       "\n",
       "      Inquiries.in.the.Last.6.Months  Employment.Length   fico  \\\n",
       "914                              0.0                3.0  677.0   \n",
       "510                              3.0                2.0  737.0   \n",
       "2073                             0.0                3.0  797.0   \n",
       "1494                             2.0                4.0  672.0   \n",
       "765                              1.0               10.0  682.0   \n",
       "...                              ...                ...    ...   \n",
       "674                              3.0                1.0  667.0   \n",
       "2408                             1.0                3.0  677.0   \n",
       "1099                             0.0               10.0  752.0   \n",
       "2347                             0.0                1.0  752.0   \n",
       "1608                             1.0                5.0  687.0   \n",
       "\n",
       "      Loan.Length_36 months  ...  State_MO  State_NV  State_OR  State_SC  \\\n",
       "914                       1  ...         0         0         0         0   \n",
       "510                       0  ...         0         0         0         0   \n",
       "2073                      1  ...         0         0         0         0   \n",
       "1494                      1  ...         0         0         0         0   \n",
       "765                       1  ...         0         0         0         0   \n",
       "...                     ...  ...       ...       ...       ...       ...   \n",
       "674                       1  ...         0         0         0         0   \n",
       "2408                      1  ...         0         0         0         0   \n",
       "1099                      0  ...         0         0         0         0   \n",
       "2347                      1  ...         0         0         0         0   \n",
       "1608                      1  ...         0         0         0         0   \n",
       "\n",
       "      State_WI  State_KY  State_LA  State_OK  Home.Ownership_MORTGAGE  \\\n",
       "914          0         0         0         0                        1   \n",
       "510          0         0         0         0                        0   \n",
       "2073         0         0         0         0                        1   \n",
       "1494         0         0         0         0                        0   \n",
       "765          0         0         0         0                        1   \n",
       "...        ...       ...       ...       ...                      ...   \n",
       "674          0         0         0         0                        1   \n",
       "2408         0         0         0         0                        1   \n",
       "1099         0         0         0         0                        1   \n",
       "2347         0         0         0         0                        0   \n",
       "1608         0         0         0         0                        0   \n",
       "\n",
       "      Home.Ownership_RENT  \n",
       "914                     0  \n",
       "510                     1  \n",
       "2073                    0  \n",
       "1494                    1  \n",
       "765                     0  \n",
       "...                   ...  \n",
       "674                     0  \n",
       "2408                    0  \n",
       "1099                    0  \n",
       "2347                    1  \n",
       "1608                    0  \n",
       "\n",
       "[2000 rows x 50 columns]"
      ]
     },
     "execution_count": 41,
     "metadata": {},
     "output_type": "execute_result"
    }
   ],
   "source": [
    "## kfold works on indices of ld_train, it fold on the basis of indices hence ids are shuffled\n",
    "ld_train"
   ]
  },
  {
   "cell_type": "code",
   "execution_count": 42,
   "metadata": {},
   "outputs": [],
   "source": [
    "## so we have to reset index\n",
    "ld_train.reset_index(inplace=True,drop=True)"
   ]
  },
  {
   "cell_type": "code",
   "execution_count": 43,
   "metadata": {},
   "outputs": [],
   "source": [
    "## Recreate x_train and y_train\n",
    "x_train=ld_train.drop('Interest.Rate',axis=1)\n",
    "y_train=ld_train['Interest.Rate']"
   ]
  },
  {
   "cell_type": "code",
   "execution_count": 44,
   "metadata": {},
   "outputs": [
    {
     "name": "stdout",
     "output_type": "stream",
     "text": [
      "1.0 : 1.6267097009333444\n",
      "2.0 : 1.6257681508581001\n",
      "3.0 : 1.6249774457021062\n",
      "4.0 : 1.624273990841311\n",
      "5.0 : 1.6236580809736758\n",
      "6.0 : 1.6231680074751111\n",
      "7.0 : 1.6227536210372695\n",
      "8.0 : 1.6223613718190328\n",
      "9.0 : 1.6220103214511337\n",
      "10.0 : 1.6217013835746734\n",
      "11.0 : 1.6214259315268353\n",
      "12.0 : 1.6211733725677373\n",
      "13.0 : 1.6209392676797734\n",
      "14.0 : 1.6207220334034957\n",
      "15.0 : 1.6205351675578417\n",
      "16.0 : 1.6203605610695768\n",
      "17.0 : 1.6202085720988397\n",
      "18.0 : 1.620079081765517\n",
      "19.0 : 1.6199685932002938\n",
      "20.0 : 1.619879194258542\n",
      "21.0 : 1.619807968589694\n",
      "22.0 : 1.619746776629397\n",
      "23.0 : 1.6196987333296586\n",
      "24.0 : 1.6196579584929598\n",
      "25.0 : 1.6196280638888247\n",
      "26.0 : 1.6196052025318637\n",
      "27.0 : 1.6195952251220729\n",
      "28.0 : 1.6195910063448504\n",
      "29.0 : 1.6195981361056746\n",
      "30.0 : 1.6196119924686225\n",
      "31.0 : 1.6196360388810689\n",
      "32.0 : 1.6196636562737659\n",
      "33.0 : 1.6196954630624263\n",
      "34.0 : 1.619730774153357\n",
      "35.0 : 1.6197861094807422\n",
      "36.0 : 1.6198637289799982\n",
      "37.0 : 1.6199515829877285\n",
      "38.0 : 1.6200404730228268\n",
      "39.0 : 1.620132542632756\n",
      "40.0 : 1.620232318014196\n",
      "41.0 : 1.6203405681601388\n",
      "42.0 : 1.6204493994729208\n",
      "43.0 : 1.6205596590815117\n",
      "44.0 : 1.6206785083379196\n",
      "45.0 : 1.620800867833632\n",
      "46.0 : 1.6209355103007426\n",
      "47.0 : 1.62107479747185\n",
      "48.0 : 1.621216974996767\n",
      "49.0 : 1.6213599132620746\n",
      "50.0 : 1.6215030605701706\n",
      "51.0 : 1.6216531929522482\n",
      "52.0 : 1.621803122638831\n",
      "53.0 : 1.6219566792658207\n",
      "54.0 : 1.6221353600172672\n",
      "55.0 : 1.622326039001143\n",
      "56.0 : 1.6225237157095809\n",
      "57.0 : 1.6227205179121114\n",
      "58.0 : 1.6229176297578836\n",
      "59.0 : 1.6231160106268743\n",
      "60.0 : 1.6233205539468067\n",
      "61.0 : 1.6235316769283894\n",
      "62.0 : 1.6237609439425753\n",
      "63.0 : 1.6239935612518628\n",
      "64.0 : 1.6242283219736149\n",
      "65.0 : 1.6244643078131422\n",
      "66.0 : 1.6247037658175798\n",
      "67.0 : 1.6249436517090703\n",
      "68.0 : 1.6251822667006082\n",
      "69.0 : 1.625419616393869\n",
      "70.0 : 1.6256615927210571\n",
      "71.0 : 1.62591065973793\n",
      "72.0 : 1.6261653972624852\n",
      "73.0 : 1.6264251038057238\n",
      "74.0 : 1.6266853324697128\n",
      "75.0 : 1.626954057493616\n",
      "76.0 : 1.6272336817296669\n",
      "77.0 : 1.6275189843482996\n",
      "78.0 : 1.627804150092712\n",
      "79.0 : 1.6280908927889617\n",
      "80.0 : 1.6283855235297373\n",
      "81.0 : 1.6286792576096314\n",
      "82.0 : 1.6289749455242213\n",
      "83.0 : 1.6292696002095948\n",
      "84.0 : 1.6295670829223095\n",
      "85.0 : 1.629872319797014\n",
      "86.0 : 1.6301772574201283\n",
      "87.0 : 1.6304852382539028\n",
      "88.0 : 1.6307990717761267\n",
      "89.0 : 1.6311123406377068\n",
      "90.0 : 1.6314246917728945\n",
      "91.0 : 1.6317352740512276\n",
      "92.0 : 1.6320451263199423\n",
      "93.0 : 1.6323609269788801\n",
      "94.0 : 1.6326830206998526\n",
      "95.0 : 1.6330087604373698\n",
      "96.0 : 1.6333383376382962\n",
      "97.0 : 1.6336721024798926\n",
      "98.0 : 1.6340052554469655\n",
      "99.0 : 1.6343401340400558\n",
      "100.0 : 1.6346751372646906\n"
     ]
    }
   ],
   "source": [
    "mae_list=[]\n",
    "for a in lambdas:\n",
    "    ridge=Ridge(fit_intercept=True,alpha=a)\n",
    "    \n",
    "    kf=KFold(n_splits=10)\n",
    "    \n",
    "    xval_err=0\n",
    "    \n",
    "    for train,test in kf.split(x_train):\n",
    "        ridge.fit(x_train.loc[train],y_train[train])\n",
    "        p=ridge.predict(x_train.loc[test])\n",
    "        xval_err +=mean_absolute_error(y_train[test],p)\n",
    "        \n",
    "    mae_10cv=xval_err/10\n",
    "    print(a,\":\",mae_10cv)\n",
    "    mae_list.extend([mae_10cv])"
   ]
  },
  {
   "cell_type": "code",
   "execution_count": 45,
   "metadata": {},
   "outputs": [
    {
     "name": "stdout",
     "output_type": "stream",
     "text": [
      "Alpha with min 10cv error is: [28.]\n"
     ]
    }
   ],
   "source": [
    "best_alpha=lambdas[mae_list==min(mae_list)]\n",
    "print('Alpha with min 10cv error is:',best_alpha)"
   ]
  },
  {
   "cell_type": "code",
   "execution_count": 34,
   "metadata": {},
   "outputs": [],
   "source": [
    "## so here we get 28 so we can get finer value around 28, then we take this lambda value and run on entire model and \n",
    "# error comes 1.52"
   ]
  },
  {
   "cell_type": "code",
   "execution_count": 47,
   "metadata": {},
   "outputs": [
    {
     "data": {
      "text/plain": [
       "1.5286735956414594"
      ]
     },
     "execution_count": 47,
     "metadata": {},
     "output_type": "execute_result"
    }
   ],
   "source": [
    "ridge=Ridge(fit_intercept=True,alpha=best_alpha)\n",
    "ridge.fit(x_train,y_train)\n",
    "p_test=ridge.predict(x_test)\n",
    "\n",
    "mae_ridge=mean_absolute_error(ld_test['Interest.Rate'],p_test)\n",
    "\n",
    "mae_ridge"
   ]
  },
  {
   "cell_type": "code",
   "execution_count": 36,
   "metadata": {},
   "outputs": [],
   "source": [
    "## we get slightly better performance than previous one- 1.54"
   ]
  },
  {
   "cell_type": "code",
   "execution_count": 37,
   "metadata": {},
   "outputs": [],
   "source": [
    "## Using Lasso:"
   ]
  },
  {
   "cell_type": "code",
   "execution_count": 48,
   "metadata": {},
   "outputs": [
    {
     "name": "stdout",
     "output_type": "stream",
     "text": [
      "Alpha with min 10cv error is : [1.]\n"
     ]
    }
   ],
   "source": [
    "lambdas=np.linspace(1,100,100)\n",
    "mae_list=[]\n",
    "for a in lambdas:\n",
    "    lasso=Lasso(fit_intercept=True,alpha=a)\n",
    "    kf=KFold(n_splits=10)\n",
    "    xval_err=0\n",
    "    \n",
    "    for train,test in kf.split(x_train):\n",
    "        lasso.fit(x_train.loc[train],y_train[train])\n",
    "        p=lasso.predict(x_train.loc[test])\n",
    "        xval_err += mean_absolute_error(y_train[test],p)\n",
    "        \n",
    "    mae_10cv=xval_err/10\n",
    "#    print(a,\":\",mae_10cv)\n",
    "    mae_list.extend([mae_10cv])\n",
    "best_alpha=lambdas[mae_list==min(mae_list)]\n",
    "print('Alpha with min 10cv error is :',best_alpha)"
   ]
  },
  {
   "cell_type": "code",
   "execution_count": 49,
   "metadata": {},
   "outputs": [
    {
     "name": "stdout",
     "output_type": "stream",
     "text": [
      "Alpha with min 10cv error is : [0.5]\n"
     ]
    }
   ],
   "source": [
    "## best value come near to 1 so we should expand on neighbourhood\n",
    "lambdas=np.linspace(0.5,10,100)\n",
    "mae_list=[]\n",
    "for a in lambdas:\n",
    "    lasso=Lasso(fit_intercept=True,alpha=a)\n",
    "    kf=KFold(n_splits=10)\n",
    "    xval_err=0\n",
    "    \n",
    "    for train,test in kf.split(x_train):\n",
    "        lasso.fit(x_train.loc[train],y_train[train])\n",
    "        p=lasso.predict(x_train.loc[test])\n",
    "        xval_err += mean_absolute_error(y_train[test],p)\n",
    "        \n",
    "    mae_10cv=xval_err/10\n",
    "#    print(a,\":\",mae_10cv)\n",
    "    mae_list.extend([mae_10cv])\n",
    "best_alpha=lambdas[mae_list==min(mae_list)]\n",
    "print('Alpha with min 10cv error is :',best_alpha)"
   ]
  },
  {
   "cell_type": "code",
   "execution_count": 40,
   "metadata": {},
   "outputs": [
    {
     "name": "stdout",
     "output_type": "stream",
     "text": [
      "Alpha with min 10cv error is : [0.01109091]\n"
     ]
    }
   ],
   "source": [
    "## best value come near to 0.5 so we should expand on neighbourhood\n",
    "lambdas=np.linspace(0.001,1,100)\n",
    "mae_list=[]\n",
    "for a in lambdas:\n",
    "    lasso=Lasso(fit_intercept=True,alpha=a)\n",
    "    kf=KFold(n_splits=10)\n",
    "    xval_err=0\n",
    "    \n",
    "    for train,test in kf.split(x_train):\n",
    "        lasso.fit(x_train.loc[train],y_train[train])\n",
    "        p=lasso.predict(x_train.loc[test])\n",
    "        xval_err += mean_absolute_error(y_train[test],p)\n",
    "        \n",
    "    mae_10cv=xval_err/10\n",
    "#    print(a,\":\",mae_10cv)\n",
    "    mae_list.extend([mae_10cv])\n",
    "best_alpha=lambdas[mae_list==min(mae_list)]\n",
    "print('Alpha with min 10cv error is :',best_alpha)"
   ]
  },
  {
   "cell_type": "code",
   "execution_count": 50,
   "metadata": {},
   "outputs": [
    {
     "data": {
      "text/plain": [
       "1.847085015890833"
      ]
     },
     "execution_count": 50,
     "metadata": {},
     "output_type": "execute_result"
    }
   ],
   "source": [
    "## now value-0.011 is at midddle so we can progress\n",
    "lasso=Lasso(fit_intercept=True,alpha=best_alpha)\n",
    "lasso.fit(x_train,y_train)\n",
    "p_test=lasso.predict(x_test)\n",
    "\n",
    "mae_lasso=mean_absolute_error(ld_test['Interest.Rate'],p_test)\n",
    "mae_lasso"
   ]
  },
  {
   "cell_type": "code",
   "execution_count": 51,
   "metadata": {},
   "outputs": [
    {
     "data": {
      "text/plain": [
       "[('Amount.Requested', 0.00022515960016130724),\n",
       " ('Debt.To.Income.Ratio', -0.0),\n",
       " ('Monthly.Income', -4.091840370825148e-05),\n",
       " ('Open.CREDIT.Lines', -0.01099620150554398),\n",
       " ('Revolving.CREDIT.Balance', -1.168942420928686e-05),\n",
       " ('Inquiries.in.the.Last.6.Months', 0.02780027643057032),\n",
       " ('Employment.Length', 0.0),\n",
       " ('fico', -0.08875326259542494),\n",
       " ('Loan.Length_36 months', -0.0),\n",
       " ('Loan.Purpose_debt_consolidation', -0.0),\n",
       " ('Loan.Purpose_credit_card', -0.0),\n",
       " ('Loan.Purpose_other', 0.0),\n",
       " ('Loan.Purpose_home_improvement', 0.0),\n",
       " ('Loan.Purpose_major_purchase', 0.0),\n",
       " ('Loan.Purpose_small_business', 0.0),\n",
       " ('Loan.Purpose_car', 0.0),\n",
       " ('Loan.Purpose_wedding', -0.0),\n",
       " ('Loan.Purpose_medical', 0.0),\n",
       " ('Loan.Purpose_moving', 0.0),\n",
       " ('State_CA', -0.0),\n",
       " ('State_NY', 0.0),\n",
       " ('State_TX', 0.0),\n",
       " ('State_FL', -0.0),\n",
       " ('State_IL', -0.0),\n",
       " ('State_GA', 0.0),\n",
       " ('State_PA', -0.0),\n",
       " ('State_NJ', -0.0),\n",
       " ('State_VA', 0.0),\n",
       " ('State_MA', -0.0),\n",
       " ('State_OH', 0.0),\n",
       " ('State_MD', 0.0),\n",
       " ('State_NC', -0.0),\n",
       " ('State_CO', -0.0),\n",
       " ('State_WA', 0.0),\n",
       " ('State_CT', 0.0),\n",
       " ('State_AZ', 0.0),\n",
       " ('State_MI', -0.0),\n",
       " ('State_MN', 0.0),\n",
       " ('State_AL', 0.0),\n",
       " ('State_MO', -0.0),\n",
       " ('State_NV', -0.0),\n",
       " ('State_OR', 0.0),\n",
       " ('State_SC', -0.0),\n",
       " ('State_WI', 0.0),\n",
       " ('State_KY', 0.0),\n",
       " ('State_LA', 0.0),\n",
       " ('State_OK', -0.0),\n",
       " ('Home.Ownership_MORTGAGE', -0.0),\n",
       " ('Home.Ownership_RENT', -0.0)]"
      ]
     },
     "execution_count": 51,
     "metadata": {},
     "output_type": "execute_result"
    }
   ],
   "source": [
    "# here also we get 1.52 which similar to ridge value but if we look at coeff many variable coeff become zero\n",
    "list(zip(x_train.columns,lasso.coef_))"
   ]
  },
  {
   "cell_type": "code",
   "execution_count": null,
   "metadata": {},
   "outputs": [],
   "source": []
  }
 ],
 "metadata": {
  "kernelspec": {
   "display_name": "Python 3",
   "language": "python",
   "name": "python3"
  },
  "language_info": {
   "codemirror_mode": {
    "name": "ipython",
    "version": 3
   },
   "file_extension": ".py",
   "mimetype": "text/x-python",
   "name": "python",
   "nbconvert_exporter": "python",
   "pygments_lexer": "ipython3",
   "version": "3.8.8"
  }
 },
 "nbformat": 4,
 "nbformat_minor": 2
}
